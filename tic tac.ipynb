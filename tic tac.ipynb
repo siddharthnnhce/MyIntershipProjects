{
 "cells": [
  {
   "cell_type": "code",
   "execution_count": null,
   "id": "3310eab5-ff97-4ce4-929d-3d7547138bbd",
   "metadata": {},
   "outputs": [
    {
     "name": "stdout",
     "output_type": "stream",
     "text": [
      "  |   |  \n",
      "------\n",
      "  |   |  \n",
      "------\n",
      "  |   |  \n",
      "------\n"
     ]
    },
    {
     "name": "stdin",
     "output_type": "stream",
     "text": [
      "Player X, enter row (0, 1, or 2):  1\n",
      "Player X, enter column (0, 1, or 2):  2\n"
     ]
    },
    {
     "name": "stdout",
     "output_type": "stream",
     "text": [
      "  |   |  \n",
      "------\n",
      "  |   | X\n",
      "------\n",
      "  |   |  \n",
      "------\n"
     ]
    }
   ],
   "source": [
    "def print_board(board):\n",
    "    for row in board:\n",
    "        print(\" | \".join(row))\n",
    "        print(\"--\" * 3)\n",
    "\n",
    "def check_winner(board, player):\n",
    "    for i in range(3):\n",
    "        if all(board[i][j] == player for j in range(3)):  # Check rows\n",
    "            return True\n",
    "        if all(board[j][i] == player for j in range(3)):  # Check columns\n",
    "            return True\n",
    "    if all(board[i][i] == player for i in range(3)) or all(board[i][2-i] == player for i in range(3)):  # Check diagonals\n",
    "        return True\n",
    "    return False\n",
    "\n",
    "def is_draw(board):\n",
    "    return all(board[i][j] != ' ' for i in range(3) for j in range(3))\n",
    "\n",
    "def play_game():\n",
    "    board = [[' ' for _ in range(3)] for _ in range(3)]\n",
    "    current_player = 'X'\n",
    "\n",
    "    while True:\n",
    "        print_board(board)\n",
    "        row = int(input(f'Player {current_player}, enter row (0, 1, or 2): '))\n",
    "        col = int(input(f'Player {current_player}, enter column (0, 1, or 2): '))\n",
    "\n",
    "        if board[row][col] == ' ':\n",
    "            board[row][col] = current_player\n",
    "\n",
    "            if check_winner(board, current_player):\n",
    "                print_board(board)\n",
    "                print(f'Player {current_player} wins!')\n",
    "                break\n",
    "            elif is_draw(board):\n",
    "                print_board(board)\n",
    "                print('It\\'s a draw!')\n",
    "                break\n",
    "            else:\n",
    "                current_player = 'O' if current_player == 'X' else 'X'\n",
    "        else:\n",
    "            print('Invalid move. Cell already occupied.')\n",
    "\n",
    "if __name__ == '__main__':\n",
    "    play_game()\n"
   ]
  },
  {
   "cell_type": "code",
   "execution_count": null,
   "id": "c60872a8-3f95-4516-92c9-0c2f21590466",
   "metadata": {},
   "outputs": [],
   "source": []
  }
 ],
 "metadata": {
  "kernelspec": {
   "display_name": "Python 3 (ipykernel)",
   "language": "python",
   "name": "python3"
  },
  "language_info": {
   "codemirror_mode": {
    "name": "ipython",
    "version": 3
   },
   "file_extension": ".py",
   "mimetype": "text/x-python",
   "name": "python",
   "nbconvert_exporter": "python",
   "pygments_lexer": "ipython3",
   "version": "3.12.0"
  }
 },
 "nbformat": 4,
 "nbformat_minor": 5
}
