{
 "cells": [
  {
   "cell_type": "code",
   "execution_count": 1,
   "id": "1c269e8c-ad41-45b6-9a94-9a831a93907a",
   "metadata": {},
   "outputs": [
    {
     "name": "stdout",
     "output_type": "stream",
     "text": [
      "Welcome to the Length Converter!\n",
      "1. Meters to Feet\n",
      "2. Feet to Meters\n"
     ]
    },
    {
     "name": "stdin",
     "output_type": "stream",
     "text": [
      "Please select conversion (1 or 2):  1\n",
      "Enter length in meters:  12.5\n"
     ]
    },
    {
     "name": "stdout",
     "output_type": "stream",
     "text": [
      "12.5 meters is equal to 41.01 feet.\n"
     ]
    }
   ],
   "source": [
    "def meters_to_feet(meters):\n",
    "    return meters * 3.28084\n",
    "\n",
    "def feet_to_meters(feet):\n",
    "    return feet / 3.28084\n",
    "\n",
    "def get_valid_float(prompt):\n",
    "    while True:\n",
    "        try:\n",
    "            value = float(input(prompt))\n",
    "            return value\n",
    "        except ValueError:\n",
    "            print(\"Invalid input. Please enter a valid number.\")\n",
    "\n",
    "def main():\n",
    "    print(\"Welcome to the Length Converter!\")\n",
    "    print(\"1. Meters to Feet\")\n",
    "    print(\"2. Feet to Meters\")\n",
    "\n",
    "    choice = input(\"Please select conversion (1 or 2): \")\n",
    "\n",
    "    if choice == '1':\n",
    "        meters = get_valid_float(\"Enter length in meters: \")\n",
    "        feet = meters_to_feet(meters)\n",
    "        print(f\"{meters} meters is equal to {feet:.2f} feet.\")\n",
    "    elif choice == '2':\n",
    "        feet = get_valid_float(\"Enter length in feet: \")\n",
    "        meters = feet_to_meters(feet)\n",
    "        print(f\"{feet} feet is equal to {meters:.2f} meters.\")\n",
    "    else:\n",
    "        print(\"Invalid choice. Please select 1 or 2.\")\n",
    "\n",
    "if __name__ == \"__main__\":\n",
    "    main()\n"
   ]
  },
  {
   "cell_type": "code",
   "execution_count": null,
   "id": "ce41a928-3640-43cb-b60b-0a2a4cee577e",
   "metadata": {},
   "outputs": [],
   "source": []
  }
 ],
 "metadata": {
  "kernelspec": {
   "display_name": "Python 3 (ipykernel)",
   "language": "python",
   "name": "python3"
  },
  "language_info": {
   "codemirror_mode": {
    "name": "ipython",
    "version": 3
   },
   "file_extension": ".py",
   "mimetype": "text/x-python",
   "name": "python",
   "nbconvert_exporter": "python",
   "pygments_lexer": "ipython3",
   "version": "3.12.0"
  }
 },
 "nbformat": 4,
 "nbformat_minor": 5
}
