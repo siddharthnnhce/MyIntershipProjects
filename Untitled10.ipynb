{
 "cells": [
  {
   "cell_type": "code",
   "execution_count": 1,
   "id": "554a357c-de5d-4441-8342-82bead30b0f7",
   "metadata": {},
   "outputs": [],
   "source": [
    "import tkinter as tk\n",
    "from tkinter import messagebox\n",
    "\n",
    "def start_game():\n",
    "    intro_label.pack_forget()\n",
    "    start_button.pack_forget()\n",
    "    choose_path()\n",
    "\n",
    "def choose_path():\n",
    "    path_label.pack()\n",
    "    left_button.pack()\n",
    "    right_button.pack()\n",
    "\n",
    "def left_tunnel():\n",
    "    result = \"You find a chest with a golden key inside.\\nYou take the key and proceed deeper into the cave.\"\n",
    "    result_label.config(text=result)\n",
    "    left_button.pack_forget()\n",
    "    right_button.pack_forget()\n",
    "\n",
    "def right_tunnel():\n",
    "    result = \"You encounter a giant spider!\\nYou must choose:\\n(1) Fight the spider\\n(2) Try to sneak past it.\"\n",
    "    result_label.config(text=result)\n",
    "    left_button.config(command=fight_spider)\n",
    "    right_button.config(command=sneak_past_spider)\n",
    "\n",
    "def fight_spider():\n",
    "    result = \"You bravely fight the spider and emerge victorious!\"\n",
    "    result_label.config(text=result)\n",
    "    left_button.pack_forget()\n",
    "    right_button.pack_forget()\n",
    "\n",
    "def sneak_past_spider():\n",
    "    result = \"You attempt to sneak past the spider...\\nSuccess! You sneak past the spider.\"\n",
    "    result_label.config(text=result)\n",
    "    left_button.pack_forget()\n",
    "    right_button.pack_forget()\n",
    "\n",
    "# Create GUI\n",
    "root = tk.Tk()\n",
    "root.title(\"Adventure Game\")\n",
    "\n",
    "intro_label = tk.Label(root, text=\"Welcome to the Quest for the Legendary Treasure!\\nYou stand at the entrance of a mysterious cave.\\nYour goal is to find the legendary treasure hidden deep within.\\nLet the adventure begin!\")\n",
    "intro_label.pack(pady=10)\n",
    "\n",
    "start_button = tk.Button(root, text=\"Start Game\", command=start_game)\n",
    "start_button.pack()\n",
    "\n",
    "path_label = tk.Label(root, text=\"You face two tunnels, one to the left and one to the right.\")\n",
    "result_label = tk.Label(root, text=\"\")\n",
    "\n",
    "left_button = tk.Button(root, text=\"Left Tunnel\", command=left_tunnel)\n",
    "right_button = tk.Button(root, text=\"Right Tunnel\", command=right_tunnel)\n",
    "\n",
    "root.mainloop()\n"
   ]
  },
  {
   "cell_type": "code",
   "execution_count": null,
   "id": "e1a1a429-c341-4123-8099-f411f256ec17",
   "metadata": {},
   "outputs": [],
   "source": []
  }
 ],
 "metadata": {
  "kernelspec": {
   "display_name": "Python 3 (ipykernel)",
   "language": "python",
   "name": "python3"
  },
  "language_info": {
   "codemirror_mode": {
    "name": "ipython",
    "version": 3
   },
   "file_extension": ".py",
   "mimetype": "text/x-python",
   "name": "python",
   "nbconvert_exporter": "python",
   "pygments_lexer": "ipython3",
   "version": "3.12.0"
  }
 },
 "nbformat": 4,
 "nbformat_minor": 5
}
