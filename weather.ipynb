{
 "cells": [
  {
   "cell_type": "code",
   "execution_count": 16,
   "id": "c8ce15d1-0680-4f5d-8c4a-d5f4575e3323",
   "metadata": {},
   "outputs": [],
   "source": [
    "import requests\n",
    "import tkinter as tk\n",
    "from tkinter import messagebox\n",
    "\n",
    "def on_entry_click(event):\n",
    "    if entry.get() == \"Enter city name\":\n",
    "        entry.delete(0, tk.END)\n",
    "        entry.config(fg='black')\n",
    "\n",
    "def get_weather():\n",
    "    city_name = entry.get()\n",
    "    api_key = \"ee9991ac39105862a251e9e5db1cbb1d\"\n",
    "    base_url = \"http://api.openweathermap.org/data/2.5/weather?\"\n",
    "    complete_url = base_url + \"appid=\" + api_key + \"&q=\" + city_name\n",
    "    response = requests.get(complete_url)\n",
    "\n",
    "    if response.status_code != 404:\n",
    "        try:\n",
    "            data = response.json()\n",
    "            current_temperature = data[\"main\"][\"temp\"]\n",
    "            current_pressure = data[\"main\"][\"pressure\"]\n",
    "            current_humidity = data[\"main\"][\"humidity\"]\n",
    "            weather_description = data[\"weather\"][0][\"description\"]\n",
    "\n",
    "            result_label.config(text=f\"Weather Information for {city_name}: \\n\"\n",
    "                                     f\"Temperature: {current_temperature} K \\n\"\n",
    "                                     f\"Atmospheric Pressure: {current_pressure} hPa \\n\"\n",
    "                                     f\"Humidity: {current_humidity} % \\n\"\n",
    "                                     f\"Description: {weather_description}\")\n",
    "        except KeyError as e:\n",
    "            messagebox.showerror(\"Error\", f\"Error: {e} key is missing in the response.\")\n",
    "    else:\n",
    "        messagebox.showerror(\"City Not Found\", \"City not found.\")\n",
    "\n",
    "# Create the main window\n",
    "root = tk.Tk()\n",
    "root.title(\"Weather App\")\n",
    "\n",
    "# Create input field and set default text\n",
    "entry = tk.Entry(root, width=30, fg='grey')\n",
    "entry.insert(0, 'Enter city name')\n",
    "entry.bind('<FocusIn>', on_entry_click)\n",
    "entry.grid(row=0, column=0, padx=10, pady=10)\n",
    "\n",
    "# Create search button\n",
    "search_button = tk.Button(root, text=\"Search\", command=get_weather)\n",
    "search_button.grid(row=0, column=1, padx=10, pady=10)\n",
    "\n",
    "# Create label to display result\n",
    "result_label = tk.Label(root, text=\"\", font=(\"Helvetica\", 12), justify=\"left\")\n",
    "result_label.grid(row=1, column=0, columnspan=2, padx=10, pady=10)\n",
    "\n",
    "# Run the GUI main loop\n",
    "root.mainloop()\n"
   ]
  },
  {
   "cell_type": "code",
   "execution_count": null,
   "id": "cdcf0672-b851-49ac-9d21-86f9600174b8",
   "metadata": {},
   "outputs": [],
   "source": []
  }
 ],
 "metadata": {
  "kernelspec": {
   "display_name": "Python 3 (ipykernel)",
   "language": "python",
   "name": "python3"
  },
  "language_info": {
   "codemirror_mode": {
    "name": "ipython",
    "version": 3
   },
   "file_extension": ".py",
   "mimetype": "text/x-python",
   "name": "python",
   "nbconvert_exporter": "python",
   "pygments_lexer": "ipython3",
   "version": "3.12.0"
  }
 },
 "nbformat": 4,
 "nbformat_minor": 5
}
