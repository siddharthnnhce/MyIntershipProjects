{
 "cells": [
  {
   "cell_type": "code",
   "execution_count": 14,
   "id": "c8ce15d1-0680-4f5d-8c4a-d5f4575e3323",
   "metadata": {},
   "outputs": [
    {
     "name": "stdin",
     "output_type": "stream",
     "text": [
      "Enter city name :  muzaffarpur\n"
     ]
    },
    {
     "name": "stdout",
     "output_type": "stream",
     "text": [
      " City Name: muzaffarpur\n",
      " Temperature (in Celsius) = 25.110000000000014\n",
      " Temperature (in Kelvin) = 298.26\n",
      " Atmospheric Pressure (in hPa unit) = 1011\n",
      " Humidity (in percentage) = 55\n",
      " Description = clear sky\n"
     ]
    }
   ],
   "source": [
    "import requests\n",
    "\n",
    "api_key = \"ee9991ac39105862a251e9e5db1cbb1d\"\n",
    "base_url = \"http://api.openweathermap.org/data/2.5/weather?\"\n",
    "\n",
    "city_name = input(\"Enter city name : \")\n",
    "complete_url = base_url + \"appid=\" + api_key + \"&q=\" + city_name\n",
    "\n",
    "response = requests.get(complete_url)\n",
    "\n",
    "if response.status_code != 404:\n",
    "    try:\n",
    "        data = response.json()\n",
    "        current_temperature_kelvin = data[\"main\"][\"temp\"]\n",
    "        current_temperature_celsius = current_temperature_kelvin - 273.15\n",
    "        current_pressure = data[\"main\"][\"pressure\"]\n",
    "        current_humidity = data[\"main\"][\"humidity\"]\n",
    "        weather_description = data[\"weather\"][0][\"description\"]\n",
    "\n",
    "        print(f\" City Name: {city_name}\" +\n",
    "              \"\\n Temperature (in Celsius) = \" +\n",
    "              str(current_temperature_celsius) +\n",
    "              \"\\n Temperature (in Kelvin) = \" +\n",
    "              str(current_temperature_kelvin) +\n",
    "              \"\\n Atmospheric Pressure (in hPa unit) = \" +\n",
    "              str(current_pressure) +\n",
    "              \"\\n Humidity (in percentage) = \" +\n",
    "              str(current_humidity) +\n",
    "              \"\\n Description = \" +\n",
    "              str(weather_description))\n",
    "    except KeyError as e:\n",
    "        print(f\"Error: {e} key is missing in the response.\")\n",
    "else:\n",
    "    print(\" City Not Found \")\n",
    "\n"
   ]
  },
  {
   "cell_type": "code",
   "execution_count": null,
   "id": "cdcf0672-b851-49ac-9d21-86f9600174b8",
   "metadata": {},
   "outputs": [],
   "source": []
  }
 ],
 "metadata": {
  "kernelspec": {
   "display_name": "Python 3 (ipykernel)",
   "language": "python",
   "name": "python3"
  },
  "language_info": {
   "codemirror_mode": {
    "name": "ipython",
    "version": 3
   },
   "file_extension": ".py",
   "mimetype": "text/x-python",
   "name": "python",
   "nbconvert_exporter": "python",
   "pygments_lexer": "ipython3",
   "version": "3.12.0"
  }
 },
 "nbformat": 4,
 "nbformat_minor": 5
}
