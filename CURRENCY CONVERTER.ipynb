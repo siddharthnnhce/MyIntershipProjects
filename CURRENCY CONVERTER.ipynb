{
 "cells": [
  {
   "cell_type": "code",
   "execution_count": 3,
   "id": "96fcbbc8-1c93-40a9-b12a-3067758954c1",
   "metadata": {},
   "outputs": [
    {
     "name": "stdin",
     "output_type": "stream",
     "text": [
      "Please enter the currency from which you would like to convert:  inr\n",
      "Please enter the currency to which you would like to convert:  eur\n",
      "Please the amount you would like to convert:  100\n"
     ]
    },
    {
     "name": "stdout",
     "output_type": "stream",
     "text": [
      "100 INR = 1.138 EUR\n"
     ]
    }
   ],
   "source": [
    "\n",
    "import requests\n",
    "\n",
    "def get_user_input():\n",
    "    curr_from = input('Please enter the currency from which you would like to convert: ').upper()\n",
    "    curr_to = input('Please enter the currency to which you would like to convert: ').upper()\n",
    "    amount = int(input('Please the amount you would like to convert: '))\n",
    "    return curr_from, curr_to, amount\n",
    "    \n",
    "def get_converted_amount(curr_from, curr_to, amount):\n",
    "    url = f'https://v6.exchangerate-api.com/v6/8b5c77bfc909ec1d25ba8057/pair/{curr_from}/{curr_to}/{amount}'\n",
    "    data = requests.get(url).json()\n",
    "    converted_amount = data['conversion_result']\n",
    "    \n",
    "    return converted_amount\n",
    "\n",
    "\n",
    "if __name__ == '__main__':\n",
    "    curr_from, curr_to, amount =  get_user_input()\n",
    "    converted_amount = get_converted_amount(curr_from, curr_to, amount)\n",
    "    print(f'{amount} {curr_from} = {converted_amount} {curr_to}')\n"
   ]
  },
  {
   "cell_type": "code",
   "execution_count": null,
   "id": "932d6f5c-6e0c-411b-9386-46e7ccc6a84f",
   "metadata": {},
   "outputs": [],
   "source": []
  }
 ],
 "metadata": {
  "kernelspec": {
   "display_name": "Python 3 (ipykernel)",
   "language": "python",
   "name": "python3"
  },
  "language_info": {
   "codemirror_mode": {
    "name": "ipython",
    "version": 3
   },
   "file_extension": ".py",
   "mimetype": "text/x-python",
   "name": "python",
   "nbconvert_exporter": "python",
   "pygments_lexer": "ipython3",
   "version": "3.12.0"
  }
 },
 "nbformat": 4,
 "nbformat_minor": 5
}
