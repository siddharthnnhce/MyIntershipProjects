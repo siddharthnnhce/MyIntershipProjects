{
 "cells": [
  {
   "cell_type": "code",
   "execution_count": 6,
   "id": "96fcbbc8-1c93-40a9-b12a-3067758954c1",
   "metadata": {},
   "outputs": [
    {
     "name": "stdout",
     "output_type": "stream",
     "text": [
      "Welcome to the Currency Converter!\n"
     ]
    },
    {
     "name": "stdin",
     "output_type": "stream",
     "text": [
      "Enter the base currency (e.g., USD):  USD\n",
      "Enter the target currency (e.g., EUR):  EUR\n",
      "Enter the amount in USD:  200\n"
     ]
    },
    {
     "name": "stdout",
     "output_type": "stream",
     "text": [
      "200.0 USD is equal to 170.68 EUR (Exchange Rate: 1 USD = 0.8534 EUR).\n"
     ]
    }
   ],
   "source": [
    "def get_fixed_exchange_rate(base_currency, target_currency):\n",
    "    conversion_rates = {\n",
    "        ('USD', 'EUR'): 0.8534,\n",
    "        ('EUR', 'USD'): 1.1736,\n",
    "    }\n",
    "\n",
    "    return conversion_rates.get((base_currency, target_currency))\n",
    "\n",
    "def main():\n",
    "    print(\"Welcome to the Currency Converter!\")\n",
    "\n",
    "    try:\n",
    "        base_currency = input(\"Enter the base currency (e.g., USD): \").upper()\n",
    "        target_currency = input(\"Enter the target currency (e.g., EUR): \").upper()\n",
    "        amount = float(input(f\"Enter the amount in {base_currency}: \"))\n",
    "\n",
    "        exchange_rate = get_fixed_exchange_rate(base_currency, target_currency)\n",
    "\n",
    "        if exchange_rate is not None:\n",
    "            converted_amount = amount * exchange_rate\n",
    "            print(f\"{amount} {base_currency} is equal to {converted_amount:.2f} {target_currency} (Exchange Rate: 1 {base_currency} = {exchange_rate} {target_currency}).\")\n",
    "        else:\n",
    "            print(f\"Unsupported conversion: {base_currency} to {target_currency}\")\n",
    "\n",
    "    except ValueError:\n",
    "        print(\"Invalid input. Please enter a valid number.\")\n",
    "\n",
    "if __name__ == \"__main__\":\n",
    "    main()\n"
   ]
  },
  {
   "cell_type": "code",
   "execution_count": null,
   "id": "932d6f5c-6e0c-411b-9386-46e7ccc6a84f",
   "metadata": {},
   "outputs": [],
   "source": []
  }
 ],
 "metadata": {
  "kernelspec": {
   "display_name": "Python 3 (ipykernel)",
   "language": "python",
   "name": "python3"
  },
  "language_info": {
   "codemirror_mode": {
    "name": "ipython",
    "version": 3
   },
   "file_extension": ".py",
   "mimetype": "text/x-python",
   "name": "python",
   "nbconvert_exporter": "python",
   "pygments_lexer": "ipython3",
   "version": "3.12.0"
  }
 },
 "nbformat": 4,
 "nbformat_minor": 5
}
