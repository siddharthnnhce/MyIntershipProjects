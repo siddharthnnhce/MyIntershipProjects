{
 "cells": [
  {
   "cell_type": "code",
   "execution_count": 1,
   "id": "13ab49e3-72f3-4389-be04-fe621e85586a",
   "metadata": {},
   "outputs": [
    {
     "name": "stdout",
     "output_type": "stream",
     "text": [
      "Data has been saved to amazon_homepage.csv\n"
     ]
    }
   ],
   "source": [
    "import requests\n",
    "from bs4 import BeautifulSoup\n",
    "import csv\n",
    "\n",
    "# Send a GET request to the URL\n",
    "req = requests.get(\"https://amazon.in\")\n",
    "\n",
    "# Parse the HTML content using BeautifulSoup\n",
    "soup = BeautifulSoup(req.content, \"html.parser\")\n",
    "\n",
    "# Get the plain text content\n",
    "text_content = soup.get_text()\n",
    "\n",
    "# Define the file name\n",
    "file_name = \"amazon_homepage.csv\"\n",
    "\n",
    "# Open the CSV file in write mode\n",
    "with open(file_name, \"w\", newline=\"\", encoding=\"utf-8\") as file:\n",
    "    writer = csv.writer(file)\n",
    "    \n",
    "    # Write the text content to the CSV file\n",
    "    writer.writerow([\"Content\"])\n",
    "    writer.writerow([text_content])\n",
    "\n",
    "print(f'Data has been saved to {file_name}')\n"
   ]
  },
  {
   "cell_type": "code",
   "execution_count": null,
   "id": "6bc6f873-906f-43c2-8795-764c4b77c87f",
   "metadata": {},
   "outputs": [],
   "source": []
  }
 ],
 "metadata": {
  "kernelspec": {
   "display_name": "Python 3 (ipykernel)",
   "language": "python",
   "name": "python3"
  },
  "language_info": {
   "codemirror_mode": {
    "name": "ipython",
    "version": 3
   },
   "file_extension": ".py",
   "mimetype": "text/x-python",
   "name": "python",
   "nbconvert_exporter": "python",
   "pygments_lexer": "ipython3",
   "version": "3.12.0"
  }
 },
 "nbformat": 4,
 "nbformat_minor": 5
}
